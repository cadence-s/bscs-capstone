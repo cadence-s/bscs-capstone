{
 "cells": [
  {
   "cell_type": "markdown",
   "id": "ce6da522-2396-413c-94bf-3066b0e6c4f8",
   "metadata": {},
   "source": [
    "# Libraries"
   ]
  },
  {
   "cell_type": "code",
   "execution_count": 1,
   "id": "0bebb107-6f80-4910-b490-21fc02e17d59",
   "metadata": {},
   "outputs": [],
   "source": [
    "import re\n",
    "import io\n",
    "import ipywidgets as widgets\n",
    "from IPython.display import display\n",
    "import pandas as pd\n",
    "import matplotlib.pyplot as plt\n",
    "from nltk.stem import PorterStemmer\n",
    "from sklearn.feature_extraction import DictVectorizer\n",
    "from sklearn.naive_bayes import BernoulliNB\n",
    "from sklearn.metrics import ConfusionMatrixDisplay"
   ]
  },
  {
   "cell_type": "markdown",
   "id": "14cc6977-b4aa-495d-8ff8-6fe758ba71b8",
   "metadata": {},
   "source": [
    "# Data Loading"
   ]
  },
  {
   "cell_type": "markdown",
   "id": "9e039918-d391-4f1b-96da-a377b49325f4",
   "metadata": {},
   "source": [
    "The data is loaded from CSV files sourced from [a Kaggle competition](https://www.kaggle.com/competitions/tweet-sentiment-extraction/data)."
   ]
  },
  {
   "cell_type": "code",
   "execution_count": 2,
   "id": "5353defa-ac8a-4a51-b21b-43fb48712840",
   "metadata": {},
   "outputs": [],
   "source": [
    "train_df = pd.read_csv(\"train.csv\")\n",
    "test_df = pd.read_csv(\"test.csv\")"
   ]
  },
  {
   "cell_type": "markdown",
   "id": "073b5fd5-cea6-4163-81ce-c2e3ff515dfa",
   "metadata": {},
   "source": [
    "As the data was originally used for a competition, it has unnecessary columns for our purposes, so they are dropped."
   ]
  },
  {
   "cell_type": "code",
   "execution_count": 3,
   "id": "ba210ad1-700d-4fd3-b8f8-1cf9eb2aad63",
   "metadata": {},
   "outputs": [],
   "source": [
    "train_df.drop([\"textID\", \"selected_text\"], axis=1, inplace=True)\n",
    "test_df.drop([\"textID\"], axis=1, inplace=True)"
   ]
  },
  {
   "cell_type": "markdown",
   "id": "acf9051a-ce95-47e4-8615-10decf652e86",
   "metadata": {},
   "source": [
    "The data we have now contains short pieces of text and an associated sentiment of positive, negative, or neutral."
   ]
  },
  {
   "cell_type": "code",
   "execution_count": 4,
   "id": "9530a57c-6e69-45cd-b8d3-181ed56c1fe2",
   "metadata": {},
   "outputs": [
    {
     "data": {
      "text/html": [
       "<div>\n",
       "<style scoped>\n",
       "    .dataframe tbody tr th:only-of-type {\n",
       "        vertical-align: middle;\n",
       "    }\n",
       "\n",
       "    .dataframe tbody tr th {\n",
       "        vertical-align: top;\n",
       "    }\n",
       "\n",
       "    .dataframe thead th {\n",
       "        text-align: right;\n",
       "    }\n",
       "</style>\n",
       "<table border=\"1\" class=\"dataframe\">\n",
       "  <thead>\n",
       "    <tr style=\"text-align: right;\">\n",
       "      <th></th>\n",
       "      <th>text</th>\n",
       "      <th>sentiment</th>\n",
       "    </tr>\n",
       "  </thead>\n",
       "  <tbody>\n",
       "    <tr>\n",
       "      <th>0</th>\n",
       "      <td>I`d have responded, if I were going</td>\n",
       "      <td>neutral</td>\n",
       "    </tr>\n",
       "    <tr>\n",
       "      <th>1</th>\n",
       "      <td>Sooo SAD I will miss you here in San Diego!!!</td>\n",
       "      <td>negative</td>\n",
       "    </tr>\n",
       "    <tr>\n",
       "      <th>2</th>\n",
       "      <td>my boss is bullying me...</td>\n",
       "      <td>negative</td>\n",
       "    </tr>\n",
       "    <tr>\n",
       "      <th>3</th>\n",
       "      <td>what interview! leave me alone</td>\n",
       "      <td>negative</td>\n",
       "    </tr>\n",
       "    <tr>\n",
       "      <th>4</th>\n",
       "      <td>Sons of ****, why couldn`t they put them on t...</td>\n",
       "      <td>negative</td>\n",
       "    </tr>\n",
       "    <tr>\n",
       "      <th>...</th>\n",
       "      <td>...</td>\n",
       "      <td>...</td>\n",
       "    </tr>\n",
       "    <tr>\n",
       "      <th>27476</th>\n",
       "      <td>wish we could come see u on Denver  husband l...</td>\n",
       "      <td>negative</td>\n",
       "    </tr>\n",
       "    <tr>\n",
       "      <th>27477</th>\n",
       "      <td>I`ve wondered about rake to.  The client has ...</td>\n",
       "      <td>negative</td>\n",
       "    </tr>\n",
       "    <tr>\n",
       "      <th>27478</th>\n",
       "      <td>Yay good for both of you. Enjoy the break - y...</td>\n",
       "      <td>positive</td>\n",
       "    </tr>\n",
       "    <tr>\n",
       "      <th>27479</th>\n",
       "      <td>But it was worth it  ****.</td>\n",
       "      <td>positive</td>\n",
       "    </tr>\n",
       "    <tr>\n",
       "      <th>27480</th>\n",
       "      <td>All this flirting going on - The ATG smiles...</td>\n",
       "      <td>neutral</td>\n",
       "    </tr>\n",
       "  </tbody>\n",
       "</table>\n",
       "<p>27481 rows × 2 columns</p>\n",
       "</div>"
      ],
      "text/plain": [
       "                                                    text sentiment\n",
       "0                    I`d have responded, if I were going   neutral\n",
       "1          Sooo SAD I will miss you here in San Diego!!!  negative\n",
       "2                              my boss is bullying me...  negative\n",
       "3                         what interview! leave me alone  negative\n",
       "4       Sons of ****, why couldn`t they put them on t...  negative\n",
       "...                                                  ...       ...\n",
       "27476   wish we could come see u on Denver  husband l...  negative\n",
       "27477   I`ve wondered about rake to.  The client has ...  negative\n",
       "27478   Yay good for both of you. Enjoy the break - y...  positive\n",
       "27479                         But it was worth it  ****.  positive\n",
       "27480     All this flirting going on - The ATG smiles...   neutral\n",
       "\n",
       "[27481 rows x 2 columns]"
      ]
     },
     "execution_count": 4,
     "metadata": {},
     "output_type": "execute_result"
    }
   ],
   "source": [
    "train_df"
   ]
  },
  {
   "cell_type": "markdown",
   "id": "aaf1d6f6-a6d3-4fb8-8bc6-42223b768529",
   "metadata": {},
   "source": [
    "Since the data may contain NaN values, they must be removed, because text processing cannot be used on NaN."
   ]
  },
  {
   "cell_type": "code",
   "execution_count": 5,
   "id": "ca6ba46d-9295-4a23-b1d5-e20ec70e5046",
   "metadata": {},
   "outputs": [
    {
     "data": {
      "text/html": [
       "<div>\n",
       "<style scoped>\n",
       "    .dataframe tbody tr th:only-of-type {\n",
       "        vertical-align: middle;\n",
       "    }\n",
       "\n",
       "    .dataframe tbody tr th {\n",
       "        vertical-align: top;\n",
       "    }\n",
       "\n",
       "    .dataframe thead th {\n",
       "        text-align: right;\n",
       "    }\n",
       "</style>\n",
       "<table border=\"1\" class=\"dataframe\">\n",
       "  <thead>\n",
       "    <tr style=\"text-align: right;\">\n",
       "      <th></th>\n",
       "      <th>text</th>\n",
       "      <th>sentiment</th>\n",
       "    </tr>\n",
       "  </thead>\n",
       "  <tbody>\n",
       "    <tr>\n",
       "      <th>314</th>\n",
       "      <td>NaN</td>\n",
       "      <td>neutral</td>\n",
       "    </tr>\n",
       "  </tbody>\n",
       "</table>\n",
       "</div>"
      ],
      "text/plain": [
       "    text sentiment\n",
       "314  NaN   neutral"
      ]
     },
     "execution_count": 5,
     "metadata": {},
     "output_type": "execute_result"
    }
   ],
   "source": [
    "train_df[train_df[\"text\"].isna()]"
   ]
  },
  {
   "cell_type": "markdown",
   "id": "88400945-b1b7-489c-8643-9a6bcdf20ad8",
   "metadata": {},
   "source": [
    "Since NaN text is correctly marked as neutral, it is replaced with an empty string so text processing can be used on it. Any other entries with missing values should be removed."
   ]
  },
  {
   "cell_type": "code",
   "execution_count": 6,
   "id": "dc577483-1621-404d-8306-f3aec7d93537",
   "metadata": {},
   "outputs": [],
   "source": [
    "for df in (train_df, test_df):\n",
    "    df[\"text\"].fillna(\"\", inplace=True)\n",
    "    df.dropna()"
   ]
  },
  {
   "cell_type": "markdown",
   "id": "a9fd2907-498b-419d-9bc8-9e3afb465e6b",
   "metadata": {},
   "source": [
    "# Data Visualization"
   ]
  },
  {
   "cell_type": "markdown",
   "id": "d6e897c3-a938-4ebc-b81c-30ebb53aa7e4",
   "metadata": {},
   "source": [
    "The following graphs display the portion of the training data with each sentiment value."
   ]
  },
  {
   "cell_type": "code",
   "execution_count": 7,
   "id": "6e8173f5-e153-4bf9-9866-f504fdadc255",
   "metadata": {},
   "outputs": [
    {
     "data": {
      "image/png": "[encoded data removed]",
      "text/plain": [
       "<Figure size 640x480 with 2 Axes>"
      ]
     },
     "metadata": {},
     "output_type": "display_data"
    }
   ],
   "source": [
    "count = train_df[\"sentiment\"].groupby(train_df[\"sentiment\"]).count()\n",
    "plt.subplot(1, 2, 1)\n",
    "count.plot(kind='barh', ylabel=\"sentiment\", xlabel=\"texts\")\n",
    "plt.subplot(1, 2, 2)\n",
    "count.plot(kind='pie', ylabel=\"\")\n",
    "plt.show()"
   ]
  },
  {
   "cell_type": "markdown",
   "id": "ea20cb83-7d72-4a70-ad81-d1e212b85ce2",
   "metadata": {},
   "source": [
    "# Text Processing"
   ]
  },
  {
   "cell_type": "markdown",
   "id": "2e06baa0-95d3-4f36-b0bd-c6f38ae8d209",
   "metadata": {},
   "source": [
    "## Text Cleaning"
   ]
  },
  {
   "cell_type": "markdown",
   "id": "913c15c4-2d6b-4cbb-a0b7-9506d3ac42db",
   "metadata": {},
   "source": [
    "The text needs to be made as consistent as possible, in order for the computer to find patterns more easily. Images, links, mentions, and censored words can't be interpreted easily and are removed. Letters repeated 3 times or more are generally arbitrary amounts used for emphasis, with the specific number not carrying meaning, so they are reduced to 2. Any remaining punctuation and capitalization does not have easily accessible value and is removed."
   ]
  },
  {
   "cell_type": "code",
   "execution_count": 8,
   "id": "bbffa311-9f11-4fca-9642-d5c8de4e686a",
   "metadata": {},
   "outputs": [],
   "source": [
    "def clean(text):\n",
    "    # remove non-word objects\n",
    "    text = re.sub(r\"https?://twitpic\\.com/\\w+\", \"image\", text)\n",
    "    text = re.sub(r\"https?://\\S+\", \"link\", text)\n",
    "    text = re.sub(r\"_\\w+\", \"mention\", text)\n",
    "    text = re.sub(r\"\\*\\*\\*\\*\", \"censored\", text)\n",
    "    # reduce repeated letters\n",
    "    text = re.sub(r\"(\\w)\\1\\1+\", r\"\\1\\1\", text)\n",
    "    # remove punctation\n",
    "    text = re.sub(r\"\\W\", \" \", text) \n",
    "    # lowercase everything\n",
    "    text = text.lower()\n",
    "    return text"
   ]
  },
  {
   "cell_type": "markdown",
   "id": "8f155bc7-62d3-4740-954e-4bf2048143df",
   "metadata": {},
   "source": [
    "## Tokenization and Stemming"
   ]
  },
  {
   "cell_type": "markdown",
   "id": "85355bcb-6be7-4241-9aee-0e4581f69ae0",
   "metadata": {},
   "source": [
    "The cleaned text is split into a list of words, in an attempt to create tokens that each have self-contained meaning. Tokens without significant meaning (stopwords) are ignored. Then, the Porter stemming algorithm is used to remove suffixes and therefore reduce the number of possible tokens for each meaning. This increases consistency in a similar way to the text cleaning."
   ]
  },
  {
   "cell_type": "code",
   "execution_count": 9,
   "id": "567d8260-b5a9-434f-91ed-0db82142dee5",
   "metadata": {},
   "outputs": [],
   "source": [
    "def tokenize_and_stem(text):\n",
    "    tokens = text.split()\n",
    "    with open(\"stopwords.txt\", 'r') as f:\n",
    "        stopwords = f.read().splitlines()\n",
    "    stemmer = PorterStemmer()\n",
    "    tokens = [stemmer.stem(token) for token in tokens if token not in stopwords]\n",
    "    return tokens"
   ]
  },
  {
   "cell_type": "markdown",
   "id": "2d0c4e99-bb98-4b18-977f-2c784d6d4ed6",
   "metadata": {},
   "source": [
    "## Feature Extraction"
   ]
  },
  {
   "cell_type": "markdown",
   "id": "f5d1248b-ce30-4fb1-8a7a-bf2b31c2cbba",
   "metadata": {},
   "source": [
    "To be used in a machine learning algorithm, the data needs to be transformed into a set of features. Here we use a binary bag-of-words approach, where each word becomes a feature that is a binary value of whether that word appears in the text or not. Binary values are used rather than counting the occurrences of a token, as each piece of text is very short. The recurrence of a token is uncommon and unlikely to have much meaning."
   ]
  },
  {
   "cell_type": "code",
   "execution_count": 10,
   "id": "7eeea615-9a41-4497-a5f2-05fc3d76cac2",
   "metadata": {},
   "outputs": [],
   "source": [
    "def extract_features(tokens):\n",
    "    return dict.fromkeys(tokens, 1)"
   ]
  },
  {
   "cell_type": "markdown",
   "id": "730bd1b1-98b2-4d21-b8af-61440b3ced64",
   "metadata": {},
   "source": [
    "## Finalization"
   ]
  },
  {
   "cell_type": "markdown",
   "id": "374c9573-39e6-4b29-b348-4ca3f93a220c",
   "metadata": {},
   "source": [
    "The above steps are compiled into a text processing function."
   ]
  },
  {
   "cell_type": "code",
   "execution_count": 11,
   "id": "90249f77-ad6c-4a91-9c25-6678bfdb39c2",
   "metadata": {},
   "outputs": [],
   "source": [
    "def process(text):\n",
    "    text = clean(text)\n",
    "    tokens = tokenize_and_stem(text)\n",
    "    features = extract_features(tokens)\n",
    "    return features"
   ]
  },
  {
   "cell_type": "markdown",
   "id": "e323ee99-37a0-4ed9-8290-ceb4cefc7fc2",
   "metadata": {},
   "source": [
    "After applying the processing function to the training dataset, the text data is now much more consistent and simpler to be read by the computer."
   ]
  },
  {
   "cell_type": "code",
   "execution_count": 12,
   "id": "ed7031fb-9c7a-4f4f-a761-a5821ec3cdff",
   "metadata": {},
   "outputs": [
    {
     "data": {
      "text/html": [
       "<div>\n",
       "<style scoped>\n",
       "    .dataframe tbody tr th:only-of-type {\n",
       "        vertical-align: middle;\n",
       "    }\n",
       "\n",
       "    .dataframe tbody tr th {\n",
       "        vertical-align: top;\n",
       "    }\n",
       "\n",
       "    .dataframe thead th {\n",
       "        text-align: right;\n",
       "    }\n",
       "</style>\n",
       "<table border=\"1\" class=\"dataframe\">\n",
       "  <thead>\n",
       "    <tr style=\"text-align: right;\">\n",
       "      <th></th>\n",
       "      <th>text</th>\n",
       "      <th>sentiment</th>\n",
       "    </tr>\n",
       "  </thead>\n",
       "  <tbody>\n",
       "    <tr>\n",
       "      <th>0</th>\n",
       "      <td>{'respond': 1, 'go': 1}</td>\n",
       "      <td>neutral</td>\n",
       "    </tr>\n",
       "    <tr>\n",
       "      <th>1</th>\n",
       "      <td>{'soo': 1, 'sad': 1, 'miss': 1, 'san': 1, 'die...</td>\n",
       "      <td>negative</td>\n",
       "    </tr>\n",
       "    <tr>\n",
       "      <th>2</th>\n",
       "      <td>{'boss': 1, 'bulli': 1}</td>\n",
       "      <td>negative</td>\n",
       "    </tr>\n",
       "    <tr>\n",
       "      <th>3</th>\n",
       "      <td>{'interview': 1, 'leav': 1, 'alon': 1}</td>\n",
       "      <td>negative</td>\n",
       "    </tr>\n",
       "    <tr>\n",
       "      <th>4</th>\n",
       "      <td>{'son': 1, 'censor': 1, 'put': 1, 'releas': 1,...</td>\n",
       "      <td>negative</td>\n",
       "    </tr>\n",
       "    <tr>\n",
       "      <th>...</th>\n",
       "      <td>...</td>\n",
       "      <td>...</td>\n",
       "    </tr>\n",
       "    <tr>\n",
       "      <th>27476</th>\n",
       "      <td>{'wish': 1, 'could': 1, 'come': 1, 'see': 1, '...</td>\n",
       "      <td>negative</td>\n",
       "    </tr>\n",
       "    <tr>\n",
       "      <th>27477</th>\n",
       "      <td>{'wonder': 1, 'rake': 1, 'client': 1, 'made': ...</td>\n",
       "      <td>negative</td>\n",
       "    </tr>\n",
       "    <tr>\n",
       "      <th>27478</th>\n",
       "      <td>{'yay': 1, 'good': 1, 'enjoy': 1, 'break': 1, ...</td>\n",
       "      <td>positive</td>\n",
       "    </tr>\n",
       "    <tr>\n",
       "      <th>27479</th>\n",
       "      <td>{'worth': 1, 'censor': 1}</td>\n",
       "      <td>positive</td>\n",
       "    </tr>\n",
       "    <tr>\n",
       "      <th>27480</th>\n",
       "      <td>{'flirt': 1, 'go': 1, 'atg': 1, 'smile': 1, 'y...</td>\n",
       "      <td>neutral</td>\n",
       "    </tr>\n",
       "  </tbody>\n",
       "</table>\n",
       "<p>27481 rows × 2 columns</p>\n",
       "</div>"
      ],
      "text/plain": [
       "                                                    text sentiment\n",
       "0                                {'respond': 1, 'go': 1}   neutral\n",
       "1      {'soo': 1, 'sad': 1, 'miss': 1, 'san': 1, 'die...  negative\n",
       "2                                {'boss': 1, 'bulli': 1}  negative\n",
       "3                 {'interview': 1, 'leav': 1, 'alon': 1}  negative\n",
       "4      {'son': 1, 'censor': 1, 'put': 1, 'releas': 1,...  negative\n",
       "...                                                  ...       ...\n",
       "27476  {'wish': 1, 'could': 1, 'come': 1, 'see': 1, '...  negative\n",
       "27477  {'wonder': 1, 'rake': 1, 'client': 1, 'made': ...  negative\n",
       "27478  {'yay': 1, 'good': 1, 'enjoy': 1, 'break': 1, ...  positive\n",
       "27479                          {'worth': 1, 'censor': 1}  positive\n",
       "27480  {'flirt': 1, 'go': 1, 'atg': 1, 'smile': 1, 'y...   neutral\n",
       "\n",
       "[27481 rows x 2 columns]"
      ]
     },
     "execution_count": 12,
     "metadata": {},
     "output_type": "execute_result"
    }
   ],
   "source": [
    "train_df[\"text\"] = train_df[\"text\"].map(process)\n",
    "train_df"
   ]
  },
  {
   "cell_type": "markdown",
   "id": "1b25d6d2-70dc-499f-bfcb-085f702d66c9",
   "metadata": {},
   "source": [
    "# Model Training"
   ]
  },
  {
   "cell_type": "markdown",
   "id": "da4b3dde-da2a-49e0-8ec3-4f8386a4bada",
   "metadata": {},
   "source": [
    "First, a vectorizer is trained based on the feature sets in the training data. The trained vectorizer converts the feature sets from the human-readable Python dictionary format to an extremely large binary matrix that includes every feature for every entry. In other words, the data is expanded to also include which tokens are *not* in each text. Since it is a sparse matrix with 0s in most cells, it can still be stored without using much memory."
   ]
  },
  {
   "cell_type": "code",
   "execution_count": 13,
   "id": "5b76d592-55ae-4ec5-b30c-e462f45c8c0a",
   "metadata": {},
   "outputs": [
    {
     "data": {
      "text/plain": [
       "<27481x18593 sparse matrix of type '<class 'numpy.float64'>'\n",
       "\twith 192746 stored elements in Compressed Sparse Row format>"
      ]
     },
     "execution_count": 13,
     "metadata": {},
     "output_type": "execute_result"
    }
   ],
   "source": [
    "vectorizer = DictVectorizer()\n",
    "vectorizer.fit(train_df[\"text\"])\n",
    "train_x = vectorizer.transform(train_df[\"text\"])\n",
    "train_x"
   ]
  },
  {
   "cell_type": "markdown",
   "id": "37e2e1d2-ea9f-4154-8384-b479128589c1",
   "metadata": {},
   "source": [
    "The sentiments can be left as they are, as there is only one sentiment for each entry."
   ]
  },
  {
   "cell_type": "code",
   "execution_count": 14,
   "id": "1477e013-cc3d-4768-9a04-c626e31eed77",
   "metadata": {},
   "outputs": [
    {
     "data": {
      "text/plain": [
       "array(['neutral', 'negative', 'negative', ..., 'positive', 'positive',\n",
       "       'neutral'], dtype=object)"
      ]
     },
     "execution_count": 14,
     "metadata": {},
     "output_type": "execute_result"
    }
   ],
   "source": [
    "train_y = train_df[\"sentiment\"].to_numpy()\n",
    "train_y"
   ]
  },
  {
   "cell_type": "markdown",
   "id": "664b6e52-2d6c-40a5-9ff3-42575ac6c5d9",
   "metadata": {},
   "source": [
    "The learning algorithm that is used is Bernoulli Naive Bayes. Naive Bayes algorithms are very fast as they take the naive assumption that every feature is conditionally independent from every other. This means that it assumes one token being in the text does not relate to the chance of any other token being in the text. The Bernoulli Naive Bayes algorithm is a particularly effective choice for our purposes, as it specifically utilizes binary features. It finds patterns in not only which tokens are in the text, but also which are not."
   ]
  },
  {
   "cell_type": "code",
   "execution_count": 15,
   "id": "36c26f07-218c-45c6-ac00-3349e8cd3bff",
   "metadata": {},
   "outputs": [
    {
     "data": {
      "text/html": [
       "<style>#sk-container-id-1 {color: black;}#sk-container-id-1 pre{padding: 0;}#sk-container-id-1 div.sk-toggleable {background-color: white;}#sk-container-id-1 label.sk-toggleable__label {cursor: pointer;display: block;width: 100%;margin-bottom: 0;padding: 0.3em;box-sizing: border-box;text-align: center;}#sk-container-id-1 label.sk-toggleable__label-arrow:before {content: \"▸\";float: left;margin-right: 0.25em;color: #696969;}#sk-container-id-1 label.sk-toggleable__label-arrow:hover:before {color: black;}#sk-container-id-1 div.sk-estimator:hover label.sk-toggleable__label-arrow:before {color: black;}#sk-container-id-1 div.sk-toggleable__content {max-height: 0;max-width: 0;overflow: hidden;text-align: left;background-color: #f0f8ff;}#sk-container-id-1 div.sk-toggleable__content pre {margin: 0.2em;color: black;border-radius: 0.25em;background-color: #f0f8ff;}#sk-container-id-1 input.sk-toggleable__control:checked~div.sk-toggleable__content {max-height: 200px;max-width: 100%;overflow: auto;}#sk-container-id-1 input.sk-toggleable__control:checked~label.sk-toggleable__label-arrow:before {content: \"▾\";}#sk-container-id-1 div.sk-estimator input.sk-toggleable__control:checked~label.sk-toggleable__label {background-color: #d4ebff;}#sk-container-id-1 div.sk-label input.sk-toggleable__control:checked~label.sk-toggleable__label {background-color: #d4ebff;}#sk-container-id-1 input.sk-hidden--visually {border: 0;clip: rect(1px 1px 1px 1px);clip: rect(1px, 1px, 1px, 1px);height: 1px;margin: -1px;overflow: hidden;padding: 0;position: absolute;width: 1px;}#sk-container-id-1 div.sk-estimator {font-family: monospace;background-color: #f0f8ff;border: 1px dotted black;border-radius: 0.25em;box-sizing: border-box;margin-bottom: 0.5em;}#sk-container-id-1 div.sk-estimator:hover {background-color: #d4ebff;}#sk-container-id-1 div.sk-parallel-item::after {content: \"\";width: 100%;border-bottom: 1px solid gray;flex-grow: 1;}#sk-container-id-1 div.sk-label:hover label.sk-toggleable__label {background-color: #d4ebff;}#sk-container-id-1 div.sk-serial::before {content: \"\";position: absolute;border-left: 1px solid gray;box-sizing: border-box;top: 0;bottom: 0;left: 50%;z-index: 0;}#sk-container-id-1 div.sk-serial {display: flex;flex-direction: column;align-items: center;background-color: white;padding-right: 0.2em;padding-left: 0.2em;position: relative;}#sk-container-id-1 div.sk-item {position: relative;z-index: 1;}#sk-container-id-1 div.sk-parallel {display: flex;align-items: stretch;justify-content: center;background-color: white;position: relative;}#sk-container-id-1 div.sk-item::before, #sk-container-id-1 div.sk-parallel-item::before {content: \"\";position: absolute;border-left: 1px solid gray;box-sizing: border-box;top: 0;bottom: 0;left: 50%;z-index: -1;}#sk-container-id-1 div.sk-parallel-item {display: flex;flex-direction: column;z-index: 1;position: relative;background-color: white;}#sk-container-id-1 div.sk-parallel-item:first-child::after {align-self: flex-end;width: 50%;}#sk-container-id-1 div.sk-parallel-item:last-child::after {align-self: flex-start;width: 50%;}#sk-container-id-1 div.sk-parallel-item:only-child::after {width: 0;}#sk-container-id-1 div.sk-dashed-wrapped {border: 1px dashed gray;margin: 0 0.4em 0.5em 0.4em;box-sizing: border-box;padding-bottom: 0.4em;background-color: white;}#sk-container-id-1 div.sk-label label {font-family: monospace;font-weight: bold;display: inline-block;line-height: 1.2em;}#sk-container-id-1 div.sk-label-container {text-align: center;}#sk-container-id-1 div.sk-container {/* jupyter's `normalize.less` sets `[hidden] { display: none; }` but bootstrap.min.css set `[hidden] { display: none !important; }` so we also need the `!important` here to be able to override the default hidden behavior on the sphinx rendered scikit-learn.org. See: https://github.com/scikit-learn/scikit-learn/issues/21755 */display: inline-block !important;position: relative;}#sk-container-id-1 div.sk-text-repr-fallback {display: none;}</style><div id=\"sk-container-id-1\" class=\"sk-top-container\"><div class=\"sk-text-repr-fallback\"><pre>BernoulliNB()</pre><b>In a Jupyter environment, please rerun this cell to show the HTML representation or trust the notebook. <br />On GitHub, the HTML representation is unable to render, please try loading this page with nbviewer.org.</b></div><div class=\"sk-container\" hidden><div class=\"sk-item\"><div class=\"sk-estimator sk-toggleable\"><input class=\"sk-toggleable__control sk-hidden--visually\" id=\"sk-estimator-id-1\" type=\"checkbox\" checked><label for=\"sk-estimator-id-1\" class=\"sk-toggleable__label sk-toggleable__label-arrow\">BernoulliNB</label><div class=\"sk-toggleable__content\"><pre>BernoulliNB()</pre></div></div></div></div></div>"
      ],
      "text/plain": [
       "BernoulliNB()"
      ]
     },
     "execution_count": 15,
     "metadata": {},
     "output_type": "execute_result"
    }
   ],
   "source": [
    "classifier = BernoulliNB()\n",
    "classifier.fit(train_x, train_y)"
   ]
  },
  {
   "cell_type": "markdown",
   "id": "66080c61-5e90-44ab-a2b3-42edb1f01e1c",
   "metadata": {},
   "source": [
    "# Model Testing"
   ]
  },
  {
   "cell_type": "markdown",
   "id": "9eaad810-471c-4c53-b1d2-36dbe22b6d4d",
   "metadata": {},
   "source": [
    "The same text processing and vectorizer used for training the model must be re-used in order for the model to understand the data."
   ]
  },
  {
   "cell_type": "code",
   "execution_count": 16,
   "id": "e2e82f91-56f9-4953-903e-a76f620a3045",
   "metadata": {},
   "outputs": [],
   "source": [
    "test_df[\"text\"] = test_df[\"text\"].map(process)\n",
    "test_x = vectorizer.transform(test_df[\"text\"])"
   ]
  },
  {
   "cell_type": "markdown",
   "id": "2ef0e0c5-5216-4e70-aace-fb1b4e160290",
   "metadata": {},
   "source": [
    "The model attempts to classify the new data, and then its guesses are compared against the real sentiment values."
   ]
  },
  {
   "cell_type": "code",
   "execution_count": 17,
   "id": "8dade7af-8258-4fd3-9475-ae78e36651c3",
   "metadata": {},
   "outputs": [
    {
     "data": {
      "image/png": "[encoded data removed]",
      "text/plain": [
       "<Figure size 640x480 with 2 Axes>"
      ]
     },
     "metadata": {},
     "output_type": "display_data"
    }
   ],
   "source": [
    "test_y_guess = classifier.predict(test_x)\n",
    "test_y_truth = test_df[\"sentiment\"].to_numpy()\n",
    "ConfusionMatrixDisplay.from_predictions(test_y_truth, test_y_guess, normalize='true', values_format='.1%')\n",
    "plt.show()"
   ]
  },
  {
   "cell_type": "markdown",
   "id": "72ac35bd-087c-4594-bb68-a1a0dc5d45f9",
   "metadata": {},
   "source": [
    "The model has a reasonably good accuracy, considering the simplicity of the model, the short length of the text, and the fact that there are 3 categories for the model to choose between for each text."
   ]
  },
  {
   "cell_type": "markdown",
   "id": "13b076cf-1582-4be0-8dbe-dad306603be7",
   "metadata": {},
   "source": [
    "One shortcoming is that the model seems to frequently err towards neutral, with 43.4% of negative text marked neutral and 33.3% of positive text marked neutral. However, it very successfully avoids marking negative text as positive (3.6%) or positive text as negative (3.3%). This \"safe\" classification could be useful for some purposes, but other purposes may want to give the neutral label less weight in the model."
   ]
  },
  {
   "cell_type": "markdown",
   "id": "4ecca905-41cd-474c-8f82-6ade5b3b1883",
   "metadata": {},
   "source": [
    "Another thing to consider is the imbalance in accuracy between positive and negative. When used for determining the overall sentiment of a large body of text, the model may lean towards positive, as more positive text is classified correctly (63.5%) than negative text (53.0%). Additionally, the model misclassifying 11.6% of neutral text as negative but only 10.5% as positive could add a slight negative lean."
   ]
  },
  {
   "cell_type": "markdown",
   "id": "4926f41b-0f80-4d59-8831-0895a730617f",
   "metadata": {},
   "source": [
    "# Usage"
   ]
  },
  {
   "cell_type": "markdown",
   "id": "824cfc04-fa9e-4023-91c2-36a2a1263cb0",
   "metadata": {},
   "source": [
    "## Single text classification"
   ]
  },
  {
   "cell_type": "markdown",
   "id": "98b871d6-6955-4a46-9483-eb961c325e14",
   "metadata": {},
   "source": [
    "The following code generates an interface for single text classification."
   ]
  },
  {
   "cell_type": "code",
   "execution_count": 18,
   "id": "deb728a8-d4db-4f2a-9a9b-36f82c29c926",
   "metadata": {},
   "outputs": [],
   "source": [
    "single_text = widgets.Textarea(placeholder=\"Text to classify\")\n",
    "single_button = widgets.Button(description=\"Run model\")\n",
    "single_output = widgets.Output()\n",
    "single_interface = widgets.VBox([single_text, single_button, single_output])"
   ]
  },
  {
   "cell_type": "code",
   "execution_count": 19,
   "id": "b2b53fd2-e8bd-42af-830c-838f104fdb68",
   "metadata": {},
   "outputs": [],
   "source": [
    "@single_output.capture(clear_output=True, wait=True)\n",
    "def run_model_single(_):\n",
    "    processed_text = process(single_text.value)\n",
    "    x = vectorizer.transform(processed_text)\n",
    "    print(classifier.predict(x)[0])\n",
    "single_button.on_click(run_model_single)"
   ]
  },
  {
   "cell_type": "markdown",
   "id": "8ed08f2b-1724-44b1-9843-57e2446d5732",
   "metadata": {},
   "source": [
    "Use the model to identify the sentiment in a single new piece of text by typing in the interface below."
   ]
  },
  {
   "cell_type": "code",
   "execution_count": 20,
   "id": "c34c636e-c2f8-4fb5-9691-f6066c258c16",
   "metadata": {},
   "outputs": [
    {
     "data": {
      "application/vnd.jupyter.widget-view+json": {
       "model_id": "532df15e5f1c406294f688040282edfc",
       "version_major": 2,
       "version_minor": 0
      },
      "text/plain": [
       "VBox(children=(Textarea(value='', placeholder='Text to classify'), Button(description='Run model', style=Butto…"
      ]
     },
     "metadata": {},
     "output_type": "display_data"
    }
   ],
   "source": [
    "display(single_interface)"
   ]
  },
  {
   "cell_type": "markdown",
   "id": "2609935e-b829-43cd-92e9-b0658373e663",
   "metadata": {},
   "source": [
    "## Bulk file analysis"
   ]
  },
  {
   "cell_type": "markdown",
   "id": "2eff679e-dc26-4f14-8141-0cbc4f1c6f3c",
   "metadata": {},
   "source": [
    "The following code generates an interface for bulk file analysis."
   ]
  },
  {
   "cell_type": "code",
   "execution_count": 21,
   "id": "b0d27ef2-f35e-4592-bda3-614c4feeb30f",
   "metadata": {},
   "outputs": [],
   "source": [
    "bulk_file = widgets.FileUpload(accept=\".csv\", multiple=False)\n",
    "bulk_button = widgets.Button(description=\"Run model\")\n",
    "bulk_output = widgets.Output()\n",
    "bulk_interface = widgets.VBox([bulk_file, bulk_button, bulk_output])"
   ]
  },
  {
   "cell_type": "code",
   "execution_count": 22,
   "id": "1f207cc9-28f7-411a-86ef-6d765d28a829",
   "metadata": {},
   "outputs": [],
   "source": [
    "@bulk_output.capture(clear_output=True, wait=True)\n",
    "def run_model_bulk(_):\n",
    "    df = pd.read_csv(io.BytesIO(bulk_file.value[0].content))\n",
    "    df.dropna()\n",
    "    df[\"text\"] = df[\"text\"].map(process)\n",
    "    x = vectorizer.transform(df[\"text\"])\n",
    "    sentiments = pd.Series(classifier.predict(x))\n",
    "    count = sentiments.groupby(sentiments).count()\n",
    "    plt.subplot(1, 2, 1)\n",
    "    count.plot(kind='barh', ylabel=\"sentiment\", xlabel=\"texts\")\n",
    "    plt.subplot(1, 2, 2)\n",
    "    count.plot(kind='pie', ylabel=\"\")\n",
    "    plt.show()\n",
    "bulk_button.on_click(run_model_bulk)"
   ]
  },
  {
   "cell_type": "markdown",
   "id": "cead82c8-e779-4aba-888b-bb5078fc4dfb",
   "metadata": {},
   "source": [
    "Use the model to analyze the overall sentiment of many pieces of text by uploading a CSV file in the interface below. The CSV file should have a column named \"text\" that contains the pieces of text to analyze."
   ]
  },
  {
   "cell_type": "code",
   "execution_count": 23,
   "id": "90143646-877a-46a8-b6f5-bec05a23adea",
   "metadata": {},
   "outputs": [
    {
     "data": {
      "application/vnd.jupyter.widget-view+json": {
       "model_id": "115edfae2fe84cbb8acb01798f89e572",
       "version_major": 2,
       "version_minor": 0
      },
      "text/plain": [
       "VBox(children=(FileUpload(value=(), accept='.csv', description='Upload'), Button(description='Run model', styl…"
      ]
     },
     "metadata": {},
     "output_type": "display_data"
    }
   ],
   "source": [
    "display(bulk_interface)"
   ]
  },
  {
   "cell_type": "code",
   "execution_count": null,
   "id": "46f4d7d0-5e61-4ecd-a13e-e2de4884caa8",
   "metadata": {},
   "outputs": [],
   "source": []
  }
 ],
 "metadata": {
  "kernelspec": {
   "display_name": "Python 3 (ipykernel)",
   "language": "python",
   "name": "python3"
  },
  "language_info": {
   "codemirror_mode": {
    "name": "ipython",
    "version": 3
   },
   "file_extension": ".py",
   "mimetype": "text/x-python",
   "name": "python",
   "nbconvert_exporter": "python",
   "pygments_lexer": "ipython3",
   "version": "3.12.0"
  }
 },
 "nbformat": 4,
 "nbformat_minor": 5
}
